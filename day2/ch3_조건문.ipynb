{
 "cells": [
  {
   "cell_type": "markdown",
   "metadata": {},
   "source": [
    "조건;\n",
    " - True, False 판단!\n",
    " - ~크냐, 작냐, 같으냐, ....\n",
    "    - 조건/비교/관계 연산자\n",
    "       - '<,>,=>,<=,==, '"
   ]
  },
  {
   "cell_type": "code",
   "execution_count": 4,
   "metadata": {},
   "outputs": [
    {
     "name": "stdout",
     "output_type": "stream",
     "text": [
      "a가 더작다\n"
     ]
    }
   ],
   "source": [
    "a = 10\n",
    "b = 100\n",
    "\n",
    "if a > b : \n",
    "    print(\"a가 더크다\")\n",
    "else :\n",
    "    print(\"a가 더작다\")"
   ]
  },
  {
   "cell_type": "code",
   "execution_count": 7,
   "metadata": {},
   "outputs": [
    {
     "name": "stdout",
     "output_type": "stream",
     "text": [
      "숫자를입력하세요: 1000\n",
      "크다\n"
     ]
    }
   ],
   "source": [
    "x = int(input('숫자를입력하세요: '))\n",
    "if x > 0 and x < 100:\n",
    "    print('작다!')\n",
    "else :\n",
    "    print('크다')"
   ]
  },
  {
   "cell_type": "code",
   "execution_count": 8,
   "metadata": {},
   "outputs": [
    {
     "name": "stdout",
     "output_type": "stream",
     "text": [
      "이름을 입력하세요또꾸\n",
      "이름 : 또꾸\n"
     ]
    }
   ],
   "source": [
    "name = input('이름을 입력하세요')\n",
    "\n",
    "if not name:\n",
    "    print('이름이 입력되지 않았다.')\n",
    "else:\n",
    "    print('이름 : %s' % name)"
   ]
  },
  {
   "cell_type": "code",
   "execution_count": 10,
   "metadata": {},
   "outputs": [
    {
     "name": "stdout",
     "output_type": "stream",
     "text": [
      "false\n"
     ]
    }
   ],
   "source": [
    "a = 9\n",
    "print('true') if a == 10 else print('false')"
   ]
  },
  {
   "cell_type": "code",
   "execution_count": 16,
   "metadata": {},
   "outputs": [
    {
     "name": "stdout",
     "output_type": "stream",
     "text": [
      "점수를 입력하세요 :9999999999999999999\n",
      "성적 : 9999999999999999999점\n",
      "등급 : A점\n"
     ]
    }
   ],
   "source": [
    "score = int(input('점수를 입력하세요 :'))\n",
    "\n",
    "if score >= 90:\n",
    "    grade = 'A'\n",
    "elif score >= 80:\n",
    "    grade = 'B'\n",
    "elif score >= 70:\n",
    "    grade = 'C'\n",
    "elif score >= 60:\n",
    "    grade = 'D'\n",
    "else :\n",
    "    grade = 'F'\n",
    "    \n",
    "print('성적 : %d점' %score)\n",
    "print('등급 : %s점' %grade)"
   ]
  },
  {
   "cell_type": "code",
   "execution_count": 18,
   "metadata": {},
   "outputs": [
    {
     "name": "stdout",
     "output_type": "stream",
     "text": [
      "월을 입력하세요: 2\n",
      "2월은 겨울입니다.\n"
     ]
    }
   ],
   "source": [
    "month = int(input('월을 입력하세요: '))\n",
    "\n",
    "if month >= 3 and month <=5:\n",
    "    print('%s월은 봄입니다.'%month)\n",
    "if month >=6 and month <= 8:\n",
    "    print('%s월은 여름입니다.'%month)\n",
    "if month >=9 and month <= 11:\n",
    "    print('%s월은 가을입니다.'%month)\n",
    "if month ==12 or month ==1 or month ==2 :\n",
    "    print('%s월은 겨울입니다.'%month)\n",
    "    "
   ]
  },
  {
   "cell_type": "code",
   "execution_count": 22,
   "metadata": {},
   "outputs": [
    {
     "name": "stdout",
     "output_type": "stream",
     "text": [
      "좌석 종류를 입력해 주세요(1:일반실, 2:특실):1\n",
      "일반실입니다.\n"
     ]
    }
   ],
   "source": [
    "a = input ('좌석 종류를 입력해 주세요(1:일반실, 2:특실):')\n",
    "\n",
    "seat1 = '일반실'\n",
    "seat2 = '특실'\n",
    "\n",
    "if a == str(1):\n",
    "    print('%s입니다.'%seat1)\n",
    "if a == str(2):\n",
    "    print('%s입니다.'%seat2)"
   ]
  },
  {
   "cell_type": "code",
   "execution_count": 25,
   "metadata": {},
   "outputs": [
    {
     "name": "stdout",
     "output_type": "stream",
     "text": [
      "숫자를 입력하세요:20\n",
      "20은(는) 4의 배수이면서 5의 배수이다.\n"
     ]
    }
   ],
   "source": [
    "num = int(input('숫자를 입력하세요:'))\n",
    "result = '4의 배수도 5의 배수도 아니다.'\n",
    "\n",
    "if num % 4 == 0 :\n",
    "    result = '4의 배수이다'\n",
    "if num % 5 == 0 :\n",
    "    result = '5의 배수이다'\n",
    "if num % 4 == 0 and num % 5 == 0:\n",
    "    result = '4의 배수이면서 5의 배수이다.'\n",
    "    \n",
    "print('%d은(는) %s' % (num, result))"
   ]
  },
  {
   "cell_type": "code",
   "execution_count": 27,
   "metadata": {},
   "outputs": [
    {
     "name": "stdout",
     "output_type": "stream",
     "text": [
      "영어 알파벳을 입력하세요 : p\n",
      "p은(는) 자음이다\n"
     ]
    }
   ],
   "source": [
    "char = input('영어 알파벳을 입력하세요 : ')\n",
    "char2 = char.upper()\n",
    "if char2 == 'A' or char2=='E' or char2=='I' or char2 =='O' or char2 =='U' :\n",
    "    print('%s은(는) 모음이다'%char)\n",
    "else:\n",
    "    print('%s은(는) 자음이다'%char)"
   ]
  },
  {
   "cell_type": "code",
   "execution_count": 37,
   "metadata": {},
   "outputs": [
    {
     "name": "stdout",
     "output_type": "stream",
     "text": [
      "키를 입력해 주세요: 175\n",
      "몸무게를 입력해 주세요: 90\n",
      "------------------------------\n",
      "키 : 175cm\n",
      "몸무게 : 90kg\n",
      "딱 보기 좋습니다.\n",
      "------------------------------\n"
     ]
    }
   ],
   "source": [
    "height = int(input('키를 입력해 주세요: '))\n",
    "weight = int(input('몸무게를 입력해 주세요: '))\n",
    "\n",
    "a = (height - 100) * 0.9\n",
    "\n",
    "print('-'*30)\n",
    "print('키 : %dcm' % height)\n",
    "print('몸무게 : %dkg' % weight)\n",
    "\n",
    "if weight > a :\n",
    "    print('딱 보기 좋습니다.')\n",
    "else :\n",
    "    print('표준(또는 마른) 체형입니다.')\n",
    "\n",
    "print('-'*30)\n"
   ]
  },
  {
   "cell_type": "code",
   "execution_count": null,
   "metadata": {},
   "outputs": [],
   "source": [
    " "
   ]
  }
 ],
 "metadata": {
  "kernelspec": {
   "display_name": "Python 3",
   "language": "python",
   "name": "python3"
  },
  "language_info": {
   "codemirror_mode": {
    "name": "ipython",
    "version": 3
   },
   "file_extension": ".py",
   "mimetype": "text/x-python",
   "name": "python",
   "nbconvert_exporter": "python",
   "pygments_lexer": "ipython3",
   "version": "3.6.12"
  }
 },
 "nbformat": 4,
 "nbformat_minor": 4
}
