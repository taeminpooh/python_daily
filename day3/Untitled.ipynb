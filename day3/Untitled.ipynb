{
 "cells": [
  {
   "cell_type": "code",
   "execution_count": 9,
   "metadata": {},
   "outputs": [
    {
     "data": {
      "text/plain": [
       "'\\nfor <> in []:\\n'"
      ]
     },
     "execution_count": 9,
     "metadata": {},
     "output_type": "execute_result"
    }
   ],
   "source": [
    "\"\"\"\n",
    "for <> in []:\n",
    "\"\"\"\n",
    "    # to do "
   ]
  },
  {
   "cell_type": "code",
   "execution_count": 12,
   "metadata": {},
   "outputs": [
    {
     "data": {
      "text/plain": [
       "range(0, 5)"
      ]
     },
     "execution_count": 12,
     "metadata": {},
     "output_type": "execute_result"
    }
   ],
   "source": [
    "range(5) #내장함수, 시작~종료 범위 숫자를 발생!"
   ]
  },
  {
   "cell_type": "code",
   "execution_count": 6,
   "metadata": {},
   "outputs": [
    {
     "data": {
      "text/plain": [
       "range(0, 5)"
      ]
     },
     "execution_count": 6,
     "metadata": {},
     "output_type": "execute_result"
    }
   ],
   "source": [
    "r = range(5)\n",
    "r"
   ]
  },
  {
   "cell_type": "code",
   "execution_count": 10,
   "metadata": {},
   "outputs": [
    {
     "data": {
      "text/plain": [
       "range"
      ]
     },
     "execution_count": 10,
     "metadata": {},
     "output_type": "execute_result"
    }
   ],
   "source": [
    "type(r)"
   ]
  },
  {
   "cell_type": "code",
   "execution_count": 11,
   "metadata": {},
   "outputs": [
    {
     "data": {
      "text/plain": [
       "5"
      ]
     },
     "execution_count": 11,
     "metadata": {},
     "output_type": "execute_result"
    }
   ],
   "source": [
    "len(r)"
   ]
  },
  {
   "cell_type": "code",
   "execution_count": 13,
   "metadata": {},
   "outputs": [
    {
     "data": {
      "text/plain": [
       "5"
      ]
     },
     "execution_count": 13,
     "metadata": {},
     "output_type": "execute_result"
    }
   ],
   "source": [
    "len(\"안녕하세요\")"
   ]
  },
  {
   "cell_type": "code",
   "execution_count": 14,
   "metadata": {},
   "outputs": [
    {
     "name": "stdout",
     "output_type": "stream",
     "text": [
      "0\n",
      "1\n",
      "2\n",
      "3\n",
      "4\n"
     ]
    }
   ],
   "source": [
    "for x in range(5):\n",
    "    print(x)"
   ]
  },
  {
   "cell_type": "code",
   "execution_count": 15,
   "metadata": {},
   "outputs": [
    {
     "name": "stdout",
     "output_type": "stream",
     "text": [
      "0\n",
      "1\n",
      "2\n",
      "3\n",
      "4\n"
     ]
    }
   ],
   "source": [
    "for x in r:\n",
    "    print(x)"
   ]
  },
  {
   "cell_type": "code",
   "execution_count": 16,
   "metadata": {},
   "outputs": [
    {
     "name": "stdout",
     "output_type": "stream",
     "text": [
      "\n",
      "*\n",
      "**\n",
      "***\n",
      "****\n"
     ]
    }
   ],
   "source": [
    "# 반복!!!\n",
    "for x in range(5):\n",
    "    print(x *'*')"
   ]
  },
  {
   "cell_type": "code",
   "execution_count": 17,
   "metadata": {},
   "outputs": [
    {
     "name": "stdout",
     "output_type": "stream",
     "text": [
      "**********\n",
      "**************\n",
      "******************\n",
      "**********************\n",
      "**************************\n",
      "******************************\n",
      "**********************************\n",
      "**************************************\n",
      "******************************************\n",
      "**********************************************\n",
      "**************************************************\n",
      "******************************************************\n",
      "**********************************************************\n",
      "**************************************************************\n",
      "******************************************************************\n",
      "**********************************************************************\n",
      "**************************************************************************\n",
      "******************************************************************************\n",
      "**********************************************************************************\n",
      "**************************************************************************************\n",
      "******************************************************************************************\n",
      "**********************************************************************************************\n",
      "**************************************************************************************************\n"
     ]
    }
   ],
   "source": [
    "# 반복!!!!\n",
    "for x in range(10, 100, 4):\n",
    "    print(x * '*')"
   ]
  },
  {
   "cell_type": "code",
   "execution_count": 18,
   "metadata": {},
   "outputs": [
    {
     "name": "stdout",
     "output_type": "stream",
     "text": [
      "+\n",
      "**\n",
      "+++\n",
      "****\n",
      "+++++\n",
      "******\n",
      "+++++++\n",
      "********\n",
      "+++++++++\n",
      "**********\n",
      "+++++++++++\n",
      "************\n",
      "+++++++++++++\n",
      "**************\n",
      "+++++++++++++++\n",
      "****************\n",
      "+++++++++++++++++\n",
      "******************\n",
      "+++++++++++++++++++\n"
     ]
    }
   ],
   "source": [
    "# 반복 !!!\n",
    "for x in range(1, 20):\n",
    "    if x % 2 == 0: # 짝수\n",
    "        print(x*'*')\n",
    "    else:          # 홀수\n",
    "        print(x*'+')"
   ]
  },
  {
   "cell_type": "code",
   "execution_count": 1,
   "metadata": {},
   "outputs": [
    {
     "name": "stdout",
     "output_type": "stream",
     "text": [
      "A\n",
      "A\n",
      "A\n",
      "A\n",
      "A\n",
      "A\n",
      "A\n",
      "A\n",
      "A\n",
      "A\n",
      "A\n",
      "A\n",
      "A\n",
      "A\n",
      "A\n",
      "A\n",
      "A\n",
      "A\n",
      "A\n",
      "A\n",
      "A\n",
      "A\n",
      "A\n",
      "A\n",
      "A\n",
      "A\n",
      "A\n",
      "A\n",
      "A\n",
      "A\n",
      "A\n",
      "A\n",
      "A\n",
      "A\n",
      "A\n",
      "A\n",
      "A\n",
      "A\n",
      "A\n",
      "A\n",
      "A\n",
      "A\n",
      "A\n",
      "A\n",
      "A\n",
      "A\n",
      "A\n",
      "A\n",
      "A\n",
      "A\n",
      "A\n",
      "A\n",
      "A\n",
      "A\n",
      "A\n",
      "A\n",
      "A\n",
      "A\n",
      "A\n",
      "A\n",
      "A\n",
      "A\n",
      "A\n",
      "A\n",
      "A\n",
      "A\n",
      "A\n",
      "A\n",
      "A\n",
      "A\n",
      "A\n",
      "A\n",
      "A\n",
      "A\n",
      "A\n",
      "A\n",
      "A\n",
      "A\n",
      "A\n",
      "A\n",
      "A\n",
      "A\n",
      "A\n",
      "A\n",
      "A\n",
      "A\n",
      "A\n",
      "A\n",
      "A\n",
      "A\n",
      "A\n",
      "A\n",
      "A\n",
      "A\n",
      "A\n",
      "A\n",
      "A\n",
      "A\n",
      "A\n",
      "A\n",
      "A\n",
      "A\n",
      "A\n",
      "A\n",
      "A\n",
      "A\n",
      "A\n",
      "A\n",
      "A\n",
      "A\n",
      "A\n",
      "A\n",
      "A\n",
      "A\n",
      "A\n",
      "A\n",
      "A\n",
      "A\n",
      "A\n",
      "A\n",
      "A\n",
      "A\n",
      "A\n",
      "A\n",
      "A\n",
      "A\n",
      "A\n",
      "A\n",
      "A\n",
      "A\n",
      "A\n",
      "A\n",
      "A\n",
      "A\n",
      "A\n",
      "A\n",
      "A\n",
      "A\n",
      "A\n",
      "A\n",
      "A\n",
      "A\n",
      "A\n",
      "A\n",
      "A\n",
      "A\n",
      "A\n",
      "A\n",
      "A\n",
      "A\n",
      "A\n",
      "A\n",
      "A\n",
      "A\n",
      "A\n",
      "A\n",
      "A\n",
      "A\n",
      "A\n",
      "A\n",
      "A\n",
      "A\n",
      "A\n",
      "A\n",
      "A\n",
      "A\n",
      "A\n",
      "A\n",
      "A\n",
      "A\n",
      "A\n",
      "A\n",
      "A\n",
      "A\n",
      "A\n",
      "A\n",
      "A\n",
      "A\n",
      "A\n",
      "A\n",
      "A\n",
      "A\n",
      "A\n",
      "A\n",
      "A\n",
      "A\n",
      "A\n",
      "A\n",
      "A\n",
      "A\n",
      "A\n",
      "A\n",
      "A\n",
      "A\n",
      "A\n",
      "A\n",
      "A\n",
      "A\n",
      "A\n",
      "A\n",
      "A\n",
      "A\n",
      "A\n",
      "A\n",
      "A\n",
      "A\n",
      "A\n",
      "A\n",
      "A\n",
      "A\n",
      "A\n",
      "A\n",
      "A\n",
      "A\n",
      "A\n",
      "A\n",
      "A\n",
      "A\n",
      "A\n",
      "A\n",
      "A\n",
      "A\n",
      "A\n",
      "A\n",
      "A\n",
      "A\n",
      "A\n",
      "A\n",
      "A\n",
      "A\n",
      "A\n",
      "A\n",
      "A\n",
      "A\n",
      "A\n",
      "A\n",
      "A\n",
      "A\n",
      "A\n",
      "A\n",
      "A\n",
      "A\n",
      "A\n",
      "A\n",
      "A\n",
      "A\n",
      "A\n",
      "A\n",
      "A\n",
      "A\n",
      "A\n",
      "A\n",
      "A\n",
      "A\n",
      "A\n",
      "A\n",
      "A\n",
      "A\n",
      "A\n",
      "A\n",
      "A\n",
      "A\n",
      "A\n",
      "A\n",
      "A\n",
      "A\n",
      "A\n",
      "A\n",
      "A\n",
      "A\n",
      "A\n",
      "A\n",
      "A\n",
      "A\n",
      "A\n",
      "A\n",
      "A\n",
      "A\n",
      "A\n",
      "A\n",
      "A\n",
      "A\n",
      "A\n",
      "A\n",
      "A\n",
      "A\n",
      "A\n",
      "A\n",
      "A\n",
      "A\n",
      "A\n",
      "A\n",
      "A\n",
      "A\n",
      "A\n",
      "A\n",
      "A\n",
      "A\n",
      "A\n",
      "A\n"
     ]
    }
   ],
   "source": [
    "x = 0\n",
    "while True:\n",
    "    print('A')\n",
    "    x +=1\n",
    "    # 종료조건\n",
    "    \n",
    "    if x == 300:\n",
    "        break"
   ]
  },
  {
   "cell_type": "markdown",
   "metadata": {},
   "source": [
    "# for 와 브레이크"
   ]
  },
  {
   "cell_type": "code",
   "execution_count": 3,
   "metadata": {},
   "outputs": [
    {
     "name": "stdout",
     "output_type": "stream",
     "text": [
      "**\n",
      "****\n"
     ]
    }
   ],
   "source": [
    "# 반복 !!!!\n",
    "for x in range(1,20):\n",
    "    if x % 2 == 0: #짝수\n",
    "        print(x *'*')\n",
    "    elif x % 5 == 0:\n",
    "        break"
   ]
  },
  {
   "cell_type": "markdown",
   "metadata": {},
   "source": [
    "# 3의 배수의 합계"
   ]
  },
  {
   "cell_type": "code",
   "execution_count": 10,
   "metadata": {},
   "outputs": [
    {
     "name": "stdout",
     "output_type": "stream",
     "text": [
      " 3  6  9  12  15  18  21  24  27  30  33  36  39  42  45  48  51  54  57  60  63  66  69  72  75  78  81  84  87  90  93  96  99 \n",
      " ------------------------------------------------------------------------------------------------------------------------------------------------------\n",
      "1~100에서 3의 배수의 합계 : 1683\n"
     ]
    }
   ],
   "source": [
    "sum = 0\n",
    "for i in range(1,101):\n",
    "    if i%3 == 0 :\n",
    "        print(' %d' %i, end = ' ')\n",
    "        sum += i\n",
    "print('\\n','-'*150)\n",
    "print('1~100에서 3의 배수의 합계 : %d'%sum)"
   ]
  },
  {
   "cell_type": "code",
   "execution_count": 16,
   "metadata": {},
   "outputs": [
    {
     "name": "stdout",
     "output_type": "stream",
     "text": [
      "끝 숫자를 입력:100\n",
      "3 6 9 12 15 18 21 24 27 30 33 36 39 42 45 48 51 54 57 60 63 66 69 72 75 78 81 84 87 90 93 96 99 \n",
      " --------------------------------------------------\n",
      "1~100에서3의배수의합계 : 1683\n",
      "끝 숫자를 입력:200\n",
      "3 6 9 12 15 18 21 24 27 30 33 36 39 42 45 48 51 54 57 60 63 66 69 72 75 78 81 84 87 90 93 96 99 102 105 108 111 114 117 120 123 126 129 132 135 138 141 144 147 150 153 156 159 162 165 168 171 174 177 180 183 186 189 192 195 198 \n",
      " --------------------------------------------------\n",
      "1~100에서3의배수의합계 : 6633\n",
      "끝 숫자를 입력:-1\n",
      "Quit...\n"
     ]
    }
   ],
   "source": [
    "while True:\n",
    "    stop = int(input('끝 숫자를 입력:'))\n",
    "    if stop == -1:\n",
    "            print('Quit...'); break\n",
    "    sum = 0\n",
    "    for i in range(1, stop) :\n",
    "        if i%3 ==0 :\n",
    "            print('%d' %i, end = ' ')\n",
    "            sum += i\n",
    "\n",
    "    print('\\n', '-'*50)\n",
    "    print('1~100에서3의배수의합계 : %d' %sum)\n",
    "        \n",
    "        "
   ]
  },
  {
   "cell_type": "code",
   "execution_count": 20,
   "metadata": {},
   "outputs": [
    {
     "name": "stdout",
     "output_type": "stream",
     "text": [
      "서비스 만족도를 입력해주세요(예: 1 또는 2또는 3, 마치시려면 -1):1\n",
      "서비스 만족도 :\n",
      " 1: 매우만족\n",
      " 2: 만족\n",
      " 3: 불만족\n",
      "음식값을 입력해 주세요(예:8000) : 500\n",
      "\n",
      "서비스 만족도 : 매우 만족, 팁: 100원\n",
      "서비스 만족도를 입력해주세요(예: 1 또는 2또는 3, 마치시려면 -1):2\n",
      "서비스 만족도 :\n",
      " 1: 매우만족\n",
      " 2: 만족\n",
      " 3: 불만족\n",
      "음식값을 입력해 주세요(예:8000) : 900\n",
      "\n",
      "서비스 만족도 : 만족, 팁: 90원\n",
      "서비스 만족도를 입력해주세요(예: 1 또는 2또는 3, 마치시려면 -1):-1\n",
      "수고하셨습니다\n"
     ]
    }
   ],
   "source": [
    "while True:\n",
    "    a = int(input('서비스 만족도를 입력해주세요(예: 1 또는 2또는 3, 마치시려면 -1):'))\n",
    "    if a == -1:\n",
    "        print('수고하셨습니다'); break\n",
    "    else:\n",
    "        print('서비스 만족도 :')\n",
    "        print(' 1: 매우만족')\n",
    "        print(' 2: 만족')\n",
    "        print(' 3: 불만족')\n",
    "    \n",
    "    \n",
    "        price = int(input('음식값을 입력해 주세요(예:8000) : '))\n",
    "    \n",
    "        if a == 1 :\n",
    "            tip = int(price*0.2)\n",
    "            service = '매우 만족'\n",
    "        elif a == 2:\n",
    "            tip = int(price*0.1)\n",
    "            service = '만족'\n",
    "        else:\n",
    "            tip = int(price * 0.05)\n",
    "            service = '불만족'\n",
    "    \n",
    "        print()\n",
    "        print('서비스 만족도 : %s, 팁: %d원' %(service, tip))"
   ]
  },
  {
   "cell_type": "code",
   "execution_count": null,
   "metadata": {},
   "outputs": [],
   "source": [
    "for s in ...  # iterable objeck"
   ]
  },
  {
   "cell_type": "code",
   "execution_count": 22,
   "metadata": {},
   "outputs": [
    {
     "name": "stdout",
     "output_type": "stream",
     "text": [
      "안\n",
      "녕\n",
      "하\n",
      "세\n",
      "요\n"
     ]
    }
   ],
   "source": [
    "msg = \"안녕하세요\"\n",
    "for s in msg:\n",
    "    print(s)"
   ]
  },
  {
   "cell_type": "code",
   "execution_count": 27,
   "metadata": {},
   "outputs": [
    {
     "name": "stdout",
     "output_type": "stream",
     "text": [
      "------------------------------\n",
      "   섭씨   화씨\n",
      "------------------------------\n",
      "     -20   -4.0\n",
      "     -15    5.0\n",
      "     -10   14.0\n",
      "      -5   23.0\n",
      "       0   32.0\n",
      "       5   41.0\n",
      "      10   50.0\n",
      "      15   59.0\n",
      "      20   68.0\n",
      "      25   77.0\n",
      "      30   86.0\n",
      "------------------------------\n"
     ]
    }
   ],
   "source": [
    "print('-'*30)\n",
    "print('   섭씨   화씨')\n",
    "print('-'*30)\n",
    "\n",
    "for c in range(-20,31,5):\n",
    "    f = c* 9.0/5.0+32.0\n",
    "    print('%8d %6.1f'%(c,f))\n",
    "    \n",
    "print('-'*30)"
   ]
  },
  {
   "cell_type": "code",
   "execution_count": 28,
   "metadata": {},
   "outputs": [
    {
     "name": "stdout",
     "output_type": "stream",
     "text": [
      "시작 수를 입력하세요:10\n",
      "끝 수를 입력하세요19\n",
      "--------------------------------------------------\n",
      "10에서 19까지 5의 배수가 아닌 수의 합계 : 25\n"
     ]
    }
   ],
   "source": [
    "n1 = int(input('시작 수를 입력하세요:'))\n",
    "n2 = int(input('끝 수를 입력하세요'))\n",
    "\n",
    "sum = 0\n",
    "for i in range(n1, n2):\n",
    "    if i%5 == 0 :\n",
    "        sum += i\n",
    "\n",
    "print('-'*50)\n",
    "print('%d에서 %d까지 5의 배수가 아닌 수의 합계 : %d' %(n1 ,n2 , sum))"
   ]
  },
  {
   "cell_type": "code",
   "execution_count": 29,
   "metadata": {},
   "outputs": [
    {
     "name": "stdout",
     "output_type": "stream",
     "text": [
      "하이픈(-)을 포함한 휴대폰 번호를 입력하세요:010-6369-1068\n",
      "01063691068"
     ]
    }
   ],
   "source": [
    "number = input('하이픈(-)을 포함한 휴대폰 번호를 입력하세요:')\n",
    "\n",
    "for x in number :\n",
    "    if x != '-' :\n",
    "        print('%s'% x, end = '' )"
   ]
  },
  {
   "cell_type": "code",
   "execution_count": 38,
   "metadata": {},
   "outputs": [
    {
     "name": "stdout",
     "output_type": "stream",
     "text": [
      "하이픈(-)을 포함한 휴대폰 번호를 입력하세요:010-6369-1068\n",
      "['010', '6369', '1068']\n",
      "01063691068\n"
     ]
    }
   ],
   "source": [
    "number = input('하이픈(-)을 포함한 휴대폰 번호를 입력하세요:')\n",
    "print(number.split(sep='-'))\n",
    "print(\"\".join(number.split('-')))"
   ]
  },
  {
   "cell_type": "code",
   "execution_count": 41,
   "metadata": {},
   "outputs": [
    {
     "name": "stdout",
     "output_type": "stream",
     "text": [
      "하이픈(-)을 뺀 11자리의 휴대폰 번호를 입력하세요:01063691068\n",
      "010-6369-1068\n"
     ]
    }
   ],
   "source": [
    "phone = input('하이픈(-)을 뺀 11자리의 휴대폰 번호를 입력하세요:')\n",
    "\n",
    "number = '';\n",
    "for i in range(0, len(phone)):\n",
    "    if i == 2:\n",
    "        number = number + (phone[2]+'-')\n",
    "    elif i == 6:\n",
    "        number = number + (phone[6]+'-')\n",
    "    else:\n",
    "        number = number + phone[i]\n",
    "print(number)"
   ]
  },
  {
   "cell_type": "code",
   "execution_count": 78,
   "metadata": {},
   "outputs": [
    {
     "name": "stdout",
     "output_type": "stream",
     "text": [
      "--------------------------------------------------\n",
      "센티미터(cm)인치(inch) 피트(ft)  야드(yd)\n",
      "--------------------------------------------------\n",
      "      10        3.9        0.3        0.1\n",
      "      20        7.9        0.7        0.2\n",
      "      30       11.8        1.0        0.3\n",
      "      40       15.7        1.3        0.4\n",
      "      50       19.7        1.6        0.5\n",
      "      60       23.6        2.0        0.7\n",
      "      70       27.6        2.3        0.8\n",
      "      80       31.5        2.6        0.9\n",
      "      90       35.4        3.0        1.0\n",
      "     100       39.4        3.3        1.1\n",
      "     110       43.3        3.6        1.2\n",
      "     120       47.2        3.9        1.3\n",
      "     130       51.2        4.3        1.4\n",
      "     140       55.1        4.6        1.5\n",
      "     150       59.1        4.9        1.6\n",
      "     160       63.0        5.2        1.7\n",
      "     170       66.9        5.6        1.9\n",
      "     180       70.9        5.9        2.0\n",
      "     190       74.8        6.2        2.1\n",
      "     200       78.7        6.6        2.2\n"
     ]
    }
   ],
   "source": [
    "print('-'*50)\n",
    "print('센티미터(cm)인치(inch) 피트(ft)  야드(yd)')\n",
    "print('-'*50)\n",
    "for cm in range (10,201,10) :\n",
    "    inch = cm*0.393701\n",
    "    ft = cm*0.032808\n",
    "    yd = cm*0.010936\n",
    "    print('%8d %10.1f %10.1f %10.1f'%(cm,inch,ft,yd))"
   ]
  },
  {
   "cell_type": "code",
   "execution_count": 77,
   "metadata": {},
   "outputs": [
    {
     "name": "stdout",
     "output_type": "stream",
     "text": [
      "12\n",
      "3333222010\n"
     ]
    }
   ],
   "source": [
    "phone = '010-222-3333'\n",
    "print(len(phone))\n",
    "print(phone[11:7:-1]+phone[6:3:-1]+phone[2::-1])"
   ]
  },
  {
   "cell_type": "code",
   "execution_count": 60,
   "metadata": {},
   "outputs": [
    {
     "name": "stdout",
     "output_type": "stream",
     "text": [
      "원하는 단수를 입력하세요4\n",
      "--------------------------------------------------\n",
      "4 x 1 =  4\n",
      "--------------------------------------------------\n",
      "4 x 2 =  8\n",
      "--------------------------------------------------\n",
      "4 x 3 =  12\n",
      "--------------------------------------------------\n",
      "4 x 4 =  16\n",
      "--------------------------------------------------\n",
      "4 x 5 =  20\n",
      "--------------------------------------------------\n",
      "4 x 6 =  24\n",
      "--------------------------------------------------\n",
      "4 x 7 =  28\n",
      "--------------------------------------------------\n",
      "4 x 8 =  32\n",
      "--------------------------------------------------\n",
      "4 x 9 =  36\n",
      "--------------------------------------------------\n"
     ]
    }
   ],
   "source": [
    "gugudan = int(input('원하는 단수를 입력하세요'))\n",
    "print('-'*50)\n",
    "\n",
    "for a in range(1,10):\n",
    "    c = gugudan * a\n",
    "    print ('%d x %d =  %d' %( gugudan,a,c))\n",
    "    \n",
    "    print('-'*50)\n",
    "    "
   ]
  },
  {
   "cell_type": "code",
   "execution_count": 87,
   "metadata": {},
   "outputs": [
    {
     "name": "stdout",
     "output_type": "stream",
     "text": [
      "*\n",
      "**\n",
      "***\n",
      "****\n",
      "*****\n",
      "******\n",
      "*******\n",
      "********\n",
      "*********\n",
      "**********\n"
     ]
    }
   ],
   "source": [
    "for i in range(1,11):\n",
    "    for j in range(1, i+1):\n",
    "        print('*', end = '')\n",
    "    print()"
   ]
  },
  {
   "cell_type": "code",
   "execution_count": 90,
   "metadata": {},
   "outputs": [
    {
     "name": "stdout",
     "output_type": "stream",
     "text": [
      "         **\n",
      "        ****\n",
      "       ******\n",
      "      ********\n",
      "     **********\n",
      "    ************\n",
      "   **************\n",
      "  ****************\n",
      " ******************\n",
      "********************\n"
     ]
    }
   ],
   "source": [
    "for i in range(1,11):\n",
    "    for j in range(1, 11-i):\n",
    "        print(' ',end='')\n",
    "    for k in range(1, i+1):\n",
    "        print('*',end='')\n",
    "    for l in range(1, i+1):  # 트리만들어봄\n",
    "        print('*',end='')\n",
    "    print()"
   ]
  },
  {
   "cell_type": "code",
   "execution_count": 92,
   "metadata": {},
   "outputs": [
    {
     "name": "stdout",
     "output_type": "stream",
     "text": [
      "------------------------------\n",
      "    섭씨     화씨\n",
      "------------------------------\n",
      "     -20     -4.0\n",
      "     -19     -2.2\n",
      "     -18     -0.4\n",
      "     -17      1.4\n",
      "     -16      3.2\n",
      "     -15      5.0\n",
      "     -14      6.8\n",
      "     -13      8.6\n",
      "     -12     10.4\n",
      "     -11     12.2\n",
      "     -10     14.0\n",
      "      -9     15.8\n",
      "      -8     17.6\n",
      "      -7     19.4\n",
      "      -6     21.2\n",
      "      -5     23.0\n",
      "      -4     24.8\n",
      "      -3     26.6\n",
      "      -2     28.4\n",
      "      -1     30.2\n",
      "       0     32.0\n",
      "       1     33.8\n",
      "       2     35.6\n",
      "       3     37.4\n",
      "       4     39.2\n",
      "       5     41.0\n",
      "       6     42.8\n",
      "       7     44.6\n",
      "       8     46.4\n",
      "       9     48.2\n",
      "      10     50.0\n",
      "      11     51.8\n",
      "      12     53.6\n",
      "      13     55.4\n",
      "      14     57.2\n",
      "      15     59.0\n",
      "      16     60.8\n",
      "      17     62.6\n",
      "      18     64.4\n",
      "      19     66.2\n",
      "      20     68.0\n",
      "      21     69.8\n",
      "      22     71.6\n",
      "      23     73.4\n",
      "      24     75.2\n",
      "      25     77.0\n",
      "      26     78.8\n",
      "      27     80.6\n",
      "      28     82.4\n",
      "      29     84.2\n",
      "      30     86.0\n",
      "      31     87.8\n",
      "      32     89.6\n",
      "      33     91.4\n",
      "      34     93.2\n",
      "      35     95.0\n",
      "      36     96.8\n",
      "      37     98.6\n",
      "      38    100.4\n",
      "      39    102.2\n",
      "      40    104.0\n",
      "------------------------------\n"
     ]
    }
   ],
   "source": [
    "print('-'*30)\n",
    "print('    섭씨     화씨')\n",
    "print('-'*30)\n",
    "\n",
    "c=-20\n",
    "while c<41:\n",
    "    f = c*9.0/5.0+32.0\n",
    "    print('%8d %8.1f'%(c,f))\n",
    "    \n",
    "    c +=1\n",
    "print('-'*30)"
   ]
  },
  {
   "cell_type": "code",
   "execution_count": 95,
   "metadata": {},
   "outputs": [
    {
     "name": "stdout",
     "output_type": "stream",
     "text": [
      "200 202 203 205 206 208 209 211 \n",
      "212 214 215 217 218 220 221 223 \n",
      "224 226 227 229 230 232 233 235 \n",
      "236 238 239 241 242 244 245 247 \n",
      "248 250 251 253 254 256 257 259 \n",
      "260 262 263 265 266 268 269 271 \n",
      "272 274 275 277 278 280 281 283 \n",
      "284 286 287 289 290 292 293 295 \n",
      "296 298 299 301 302 304 305 307 \n",
      "308 310 311 313 314 316 317 319 \n",
      "320 322 323 325 326 328 329 331 \n",
      "332 334 335 337 338 340 341 343 \n",
      "344 346 347 349 350 352 353 355 \n",
      "356 358 359 361 362 364 365 367 \n",
      "368 370 371 373 374 376 377 379 \n",
      "380 382 383 385 386 388 389 391 \n",
      "392 394 395 397 398 400 401 403 \n",
      "404 406 407 409 410 412 413 415 \n",
      "416 418 419 421 422 424 425 427 \n",
      "428 430 431 433 434 436 437 439 \n",
      "440 442 443 445 446 448 449 451 \n",
      "452 454 455 457 458 460 461 463 \n",
      "464 466 467 469 470 472 473 475 \n",
      "476 478 479 481 482 484 485 487 \n",
      "488 490 491 493 494 496 497 499 \n",
      "500 502 503 505 506 508 509 511 \n",
      "512 514 515 517 518 520 521 523 \n",
      "524 526 527 529 530 532 533 535 \n",
      "536 538 539 541 542 544 545 547 \n",
      "548 550 551 553 554 556 557 559 \n",
      "560 562 563 565 566 568 569 571 \n",
      "572 574 575 577 578 580 581 583 \n",
      "584 586 587 589 590 592 593 595 \n",
      "596 598 599 "
     ]
    }
   ],
   "source": [
    "i = 200\n",
    "count = 0\n",
    "while i < 601:\n",
    "    if i %3 != 0 :\n",
    "        print('%d ' %i, end='')\n",
    "        count += 1\n",
    "        if count % 8==0:\n",
    "            print()\n",
    "    i +=1"
   ]
  },
  {
   "cell_type": "code",
   "execution_count": 98,
   "metadata": {},
   "outputs": [
    {
     "name": "stdout",
     "output_type": "stream",
     "text": [
      "영어 문장을 입력하세요 :pdsafnponfasPONPENPOW\n",
      "모음 : aoaOEO\n",
      "모음의개수 :  6\n"
     ]
    }
   ],
   "source": [
    "s = input('영어 문장을 입력하세요 :')\n",
    "\n",
    "i = 0\n",
    "count = 0\n",
    "print('모음 : ', end = '')\n",
    "while i<len(s)-1 :\n",
    "    if(s[i] =='a' or s[i] =='A' or s[i] =='e' or s[i] == 'E' \\\n",
    "      or s[i] == 'i' or s[i] =='I' or s[i] == 'o' or s[i] == 'O'\\\n",
    "      or s[i] =='u' or s[i] == 'U'):\n",
    "        count+=1\n",
    "        print(s[i], end='')\n",
    "    i+=1\n",
    "print('\\n모음의개수 :  %d' % count)"
   ]
  },
  {
   "cell_type": "code",
   "execution_count": 107,
   "metadata": {},
   "outputs": [
    {
     "name": "stdout",
     "output_type": "stream",
     "text": [
      "영어 문장을 입력하세요 :APPLE\n",
      "모음 : AE\n",
      "모음의개수 :  2\n"
     ]
    }
   ],
   "source": [
    "s = input('영어 문장을 입력하세요 :')\n",
    "\n",
    "i = 0\n",
    "count = 0\n",
    "print('모음 : ', end = '')\n",
    "lo = s.lower()\n",
    "\n",
    "while i<=len(s)-1 :\n",
    "    if(lo[i] =='a'  or lo[i] =='e' or lo[i] == 'i'  or lo[i] == 'o'  or lo[i] =='u' ):\n",
    "        count+=1\n",
    "        print(s[i], end='')\n",
    "    i+=1\n",
    "print('\\n모음의개수 :  %d' % count)"
   ]
  },
  {
   "cell_type": "code",
   "execution_count": 114,
   "metadata": {},
   "outputs": [
    {
     "name": "stdout",
     "output_type": "stream",
     "text": [
      "* * * * * * * * * * \n",
      "* * * * * * * * * * \n",
      "* * * * * * * * * * \n",
      "* * * * * * * * * * \n",
      "* * * * * * * * * * \n"
     ]
    }
   ],
   "source": [
    "for d in range(5):\n",
    "    print('* '*10)"
   ]
  },
  {
   "cell_type": "code",
   "execution_count": 119,
   "metadata": {},
   "outputs": [
    {
     "name": "stdout",
     "output_type": "stream",
     "text": [
      "* * * * * * * * * * \n",
      "* * * * * * * * * * \n",
      "* * * * * * * * * * \n",
      "* * * * * * * * * * \n",
      "* * * * * * * * * * \n"
     ]
    }
   ],
   "source": [
    " i = 0\n",
    "while i <= 4 :\n",
    "    print('* '*10)\n",
    "    i+=1"
   ]
  },
  {
   "cell_type": "code",
   "execution_count": 148,
   "metadata": {},
   "outputs": [
    {
     "name": "stdout",
     "output_type": "stream",
     "text": [
      "6 6 6 6 6 6  \n",
      "5 5 5 5 5  \n",
      "4 4 4 4  \n",
      "3 3 3  \n",
      "2 2  \n",
      "1  \n"
     ]
    }
   ],
   "source": [
    "for a in range(0,6):\n",
    "        n = 6-a\n",
    "        print('%d ' %n *n, end=' \\n')"
   ]
  },
  {
   "cell_type": "code",
   "execution_count": 171,
   "metadata": {},
   "outputs": [
    {
     "name": "stdout",
     "output_type": "stream",
     "text": [
      "0  \n",
      "0  1  \n",
      "0  1  2  \n",
      "0  1  2  3  \n",
      "0  1  2  3  4  \n",
      "0  1  2  3  4  5  \n"
     ]
    }
   ],
   "source": [
    "for a in range(0,6) :\n",
    "    for b in range(0,a+1):\n",
    "        print('%d ' %b , end=' ')\n",
    "    print()"
   ]
  },
  {
   "cell_type": "code",
   "execution_count": 174,
   "metadata": {},
   "outputs": [
    {
     "name": "stdout",
     "output_type": "stream",
     "text": [
      "수 : 3명\n",
      "우 : 6명\n",
      "미 : 3명\n",
      "양 : 4명\n",
      "가 : 4명\n"
     ]
    }
   ],
   "source": [
    "s = [64, 89, 100, 85, 77 ,58, 79, 67, 96, 87, 87, 35, 82,98,84,76,63,69,53,22]\n",
    "\n",
    "count_su = 0\n",
    "count_woo = 0\n",
    "count_mi = 0\n",
    "count_yang = 0\n",
    "count_ga = 0\n",
    "\n",
    "i=0\n",
    "while i < len(s):\n",
    "    if s[i] >=90 and s[i] <= 100 :\n",
    "        count_su = count_su+1\n",
    "    if s[i] >=80 and s[i] <= 89 :\n",
    "        count_woo = count_woo+1\n",
    "    if s[i] >=70 and s[i] <= 79 :\n",
    "        count_mi = count_mi+1\n",
    "    if s[i] >=60 and s[i] <= 69 :\n",
    "        count_yang = count_yang +1\n",
    "    if s[i] >= 0 and s[i] <= 59 :\n",
    "        count_ga = count_ga+1\n",
    "        \n",
    "    i+=1\n",
    "\n",
    "print('수 : %d명' %count_su)\n",
    "print('우 : %d명' %count_woo)\n",
    "print('미 : %d명' %count_mi)\n",
    "print('양 : %d명' %count_yang)\n",
    "print('가 : %d명' %count_ga)"
   ]
  },
  {
   "cell_type": "code",
   "execution_count": 178,
   "metadata": {},
   "outputs": [
    {
     "name": "stdout",
     "output_type": "stream",
     "text": [
      "tr_in 에서 밑줄(_)안에 들어갈 알파벳은?a\n",
      "정답입니다!\n",
      "b_s 에서 밑줄(_)안에 들어갈 알파벳은?u\n",
      "정답입니다!\n",
      "_axi 에서 밑줄(_)안에 들어갈 알파벳은?t\n",
      "정답입니다!\n",
      "air_lane 에서 밑줄(_)안에 들어갈 알파벳은?p\n",
      "정답입니다!\n"
     ]
    }
   ],
   "source": [
    "questions = ['tr_in', 'b_s', '_axi', 'air_lane']\n",
    "answers = ['a','u','t','p']\n",
    "\n",
    "for i in range(len(questions)) :\n",
    "    q = '%s 에서 밑줄(_)안에 들어갈 알파벳은?' % questions[i]\n",
    "    ans = input(q)\n",
    "    \n",
    "    if ans == answers[i] :\n",
    "        print('정답입니다!')\n",
    "    else :\n",
    "        print('틀렸습니다!')\n",
    "        "
   ]
  },
  {
   "cell_type": "code",
   "execution_count": 180,
   "metadata": {},
   "outputs": [
    {
     "name": "stdout",
     "output_type": "stream",
     "text": [
      "[10, 20, 30]\n",
      "[40, 50, 60]\n",
      "10\n",
      "20\n",
      "30\n",
      "40\n",
      "50\n",
      "60\n"
     ]
    }
   ],
   "source": [
    "#중첩 리스트 2차원 리스트\n",
    "numbers = [[10,20,30],[40,50,60]]\n",
    "\n",
    "print(numbers[0])\n",
    "print(numbers[1])\n",
    "\n",
    "print(numbers[0][0])\n",
    "print(numbers[0][1])\n",
    "print(numbers[0][2])\n",
    "print(numbers[1][0])\n",
    "print(numbers[1][1])\n",
    "print(numbers[1][2])\n"
   ]
  },
  {
   "cell_type": "code",
   "execution_count": null,
   "metadata": {},
   "outputs": [],
   "source": []
  }
 ],
 "metadata": {
  "kernelspec": {
   "display_name": "Python 3",
   "language": "python",
   "name": "python3"
  },
  "language_info": {
   "codemirror_mode": {
    "name": "ipython",
    "version": 3
   },
   "file_extension": ".py",
   "mimetype": "text/x-python",
   "name": "python",
   "nbconvert_exporter": "python",
   "pygments_lexer": "ipython3",
   "version": "3.6.12"
  }
 },
 "nbformat": 4,
 "nbformat_minor": 4
}
