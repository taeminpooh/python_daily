{
 "cells": [
  {
   "cell_type": "code",
   "execution_count": 1,
   "metadata": {},
   "outputs": [
    {
     "ename": "SyntaxError",
     "evalue": "invalid syntax (<ipython-input-1-d9f89a670d51>, line 15)",
     "output_type": "error",
     "traceback": [
      "\u001b[1;36m  File \u001b[1;32m\"<ipython-input-1-d9f89a670d51>\"\u001b[1;36m, line \u001b[1;32m15\u001b[0m\n\u001b[1;33m    print(''%d와 %d의 최소공배수 : %d'%(num1,num2,mingong))\u001b[0m\n\u001b[1;37m                        ^\u001b[0m\n\u001b[1;31mSyntaxError\u001b[0m\u001b[1;31m:\u001b[0m invalid syntax\n"
     ]
    }
   ],
   "source": [
    "def gongbaesu(n1, n2):\n",
    "    if n1 >n2:\n",
    "        big = n1\n",
    "    else:\n",
    "        big = n2\n",
    "    while True :\n",
    "        if ((big%n1 == 0) and (big%n2 ==0)):\n",
    "            return big\n",
    "        else:\n",
    "            big +=1\n",
    "    return big\n",
    "num1=int(input('첫 번째 수를 입력하세요: '))\n",
    "num2=int(input('두 번째 수를 입력하세요: '))\n",
    "mingong = gongbaesu(8,20)\n",
    "print(''%d와 %d의 최소공배수 : %d'%(num1,num2,mingong))"
   ]
  },
  {
   "cell_type": "code",
   "execution_count": null,
   "metadata": {},
   "outputs": [],
   "source": []
  }
 ],
 "metadata": {
  "kernelspec": {
   "display_name": "Python 3",
   "language": "python",
   "name": "python3"
  },
  "language_info": {
   "codemirror_mode": {
    "name": "ipython",
    "version": 3
   },
   "file_extension": ".py",
   "mimetype": "text/x-python",
   "name": "python",
   "nbconvert_exporter": "python",
   "pygments_lexer": "ipython3",
   "version": "3.6.12"
  }
 },
 "nbformat": 4,
 "nbformat_minor": 4
}
