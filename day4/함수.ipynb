{
 "cells": [
  {
   "cell_type": "code",
   "execution_count": 10,
   "metadata": {},
   "outputs": [],
   "source": [
    "def func(x):\n",
    "    x[0]=300\n",
    "    print('func() : x =',x,\",id=\",id(x))\n"
   ]
  },
  {
   "cell_type": "code",
   "execution_count": 11,
   "metadata": {},
   "outputs": [
    {
     "name": "stdout",
     "output_type": "stream",
     "text": [
      "메인:x= [100, 300] ,id= 2070433749832\n",
      "func() : x = [300, 300] ,id= 2070433749832\n",
      "메인:x= [300, 300] ,id= 2070433749832\n"
     ]
    }
   ],
   "source": [
    "x=[100, 300]\n",
    "print(\"메인:x=\", x,\",id=\",id(x))\n",
    "func(x)\n",
    "print('메인:x=', x,\",id=\",id(x))"
   ]
  },
  {
   "cell_type": "code",
   "execution_count": 12,
   "metadata": {},
   "outputs": [
    {
     "name": "stdout",
     "output_type": "stream",
     "text": [
      "10 ~100의 정수 합계: 5005\n",
      "100 ~1000의 정수 합계: 495550\n",
      "1000 ~10000의 정수 합계: 49505500\n"
     ]
    }
   ],
   "source": [
    "def sum(start,end):\n",
    "    total = 0\n",
    "    for i in range(start, end+1):\n",
    "        total += i\n",
    "    print('%d ~%d의 정수 합계: %d'%(start, end, total))\n",
    "    \n",
    "sum(10,100)\n",
    "sum(100,1000)\n",
    "sum(1000,10000)"
   ]
  },
  {
   "cell_type": "code",
   "execution_count": 18,
   "metadata": {},
   "outputs": [
    {
     "name": "stdin",
     "output_type": "stream",
     "text": [
      "시작 수를 입력하세요:  58\n",
      "끝 수를 입력하세요:  90\n",
      "합계를 구할 배수를 입력하세요:  39\n"
     ]
    },
    {
     "name": "stdout",
     "output_type": "stream",
     "text": [
      "58 ~ 90의 정수 중 39의 배수의 합 : 78\n"
     ]
    }
   ],
   "source": [
    "def sum_besu(n1,n2,num):\n",
    "    sum =0\n",
    "    for i in range(n1,n2+1):\n",
    "        if i %num == 0:\n",
    "            sum += i\n",
    "    return sum\n",
    "\n",
    "start = int(input('시작 수를 입력하세요: '))\n",
    "end = int(input('끝 수를 입력하세요: '))\n",
    "besu = int(input('합계를 구할 배수를 입력하세요: '))\n",
    "\n",
    "result = sum_besu(start,end,besu)\n",
    "\n",
    "print('%d ~ %d의 정수 중 %d의 배수의 합 : %d' % (start, end, besu, result))"
   ]
  },
  {
   "cell_type": "code",
   "execution_count": 23,
   "metadata": {},
   "outputs": [
    {
     "name": "stdin",
     "output_type": "stream",
     "text": [
      "첫 번째 수를 입력하세요:  30\n",
      "두 번째 수를 입력하세요:  20\n"
     ]
    },
    {
     "name": "stdout",
     "output_type": "stream",
     "text": [
      "30과(와) 20의 최대공약수 : 10\n"
     ]
    }
   ],
   "source": [
    "def computeMaxGong(x,y):\n",
    "    if x > y:\n",
    "        small = y\n",
    "    else :\n",
    "        small = x\n",
    "    \n",
    "    for i in range(1, small+1):\n",
    "        if((x % i == 0) and (y % i == 0)):\n",
    "            result = i\n",
    "    return result\n",
    "\n",
    "num1 = int(input(\"첫 번째 수를 입력하세요: \"))\n",
    "num2 = int(input(\"두 번째 수를 입력하세요: \"))\n",
    "\n",
    "max_gong = computeMaxGong(num1,num2)\n",
    "\n",
    "print('%d과(와) %d의 최대공약수 : %d'%(num1, num2, max_gong))"
   ]
  },
  {
   "cell_type": "code",
   "execution_count": 29,
   "metadata": {},
   "outputs": [],
   "source": [
    "def func(x):\n",
    "    x= 0\n",
    "    print(id(x))\n",
    "    if 10>1:\n",
    "        x= 100\n",
    "        print(id(x))"
   ]
  },
  {
   "cell_type": "code",
   "execution_count": 30,
   "metadata": {},
   "outputs": [
    {
     "name": "stdout",
     "output_type": "stream",
     "text": [
      "1827254432\n",
      "1827257632\n"
     ]
    }
   ],
   "source": [
    "func(1)"
   ]
  },
  {
   "cell_type": "code",
   "execution_count": 31,
   "metadata": {},
   "outputs": [
    {
     "name": "stdout",
     "output_type": "stream",
     "text": [
      "10\n",
      "1827254752\n",
      "10\n",
      "1827254752\n"
     ]
    }
   ],
   "source": [
    "def func():\n",
    "    print(x)\n",
    "    print(id(x))\n",
    "\n",
    "x=10\n",
    "print(x)\n",
    "print(id(x))\n",
    "func()"
   ]
  },
  {
   "cell_type": "code",
   "execution_count": 34,
   "metadata": {},
   "outputs": [
    {
     "name": "stdout",
     "output_type": "stream",
     "text": [
      "10\n",
      "1827254752\n",
      "100\n",
      "1827257632\n",
      "10\n",
      "1827254752\n"
     ]
    }
   ],
   "source": [
    "def func():\n",
    "    x=100\n",
    "    print(x)\n",
    "    print(id(x))\n",
    "\n",
    "x=10\n",
    "print(x)\n",
    "print(id(x))\n",
    "func()\n",
    "\n",
    "print(x)\n",
    "print(id(x))"
   ]
  },
  {
   "cell_type": "code",
   "execution_count": 44,
   "metadata": {},
   "outputs": [
    {
     "name": "stdout",
     "output_type": "stream",
     "text": [
      "김소영 82 80 93 97 93 88\n",
      "정예린 86 100 93 86 90 77\n",
      "이세영 91 88 99 79 92 68\n",
      "정수정 86 100 93 89 92 93\n",
      "박지수 80 100 95 89 90 84\n",
      "\n",
      "<class 'str'>\n"
     ]
    }
   ],
   "source": [
    "scores = ['김소영 82 80 93 97 93 88',\n",
    "         '정예린 86 100 93 86 90 77',\n",
    "         '이세영 91 88 99 79 92 68',\n",
    "         '정수정 86 100 93 89 92 93',\n",
    "          '박지수 80 100 95 89 90 84']\n",
    "data = ''\n",
    "for item in scores :\n",
    "    data += item + '\\n'\n",
    "\n",
    "print(data)\n",
    "file = open('scores.txt', 'w', encoding='utf8')\n",
    "file.write(data)\n",
    "file.close()"
   ]
  },
  {
   "cell_type": "code",
   "execution_count": 40,
   "metadata": {},
   "outputs": [
    {
     "name": "stdout",
     "output_type": "stream",
     "text": [
      "scores.txt 파일의 내용 :\n",
      "김소영 82 80 93 97 93 88\n",
      "정예린 86 100 93 86 90 77\n",
      "이세영 91 88 99 79 92 68\n",
      "정수정 86 100 93 89 92 93\n",
      "박지수 80 100 95 89 90 84\n"
     ]
    }
   ],
   "source": [
    "file = open('scores.txt','r',encoding='utf8')\n",
    "lines = file.readlines()\n",
    "\n",
    "print('scores.txt 파일의 내용 :')\n",
    "for line in lines:\n",
    "    print(line, end='')\n",
    "    \n",
    "file.close()"
   ]
  },
  {
   "cell_type": "code",
   "execution_count": 49,
   "metadata": {},
   "outputs": [
    {
     "name": "stdin",
     "output_type": "stream",
     "text": [
      "오렌지에 맞는 영어 단어는? orange\n"
     ]
    },
    {
     "name": "stdout",
     "output_type": "stream",
     "text": [
      "맞습니다!\n"
     ]
    },
    {
     "name": "stdin",
     "output_type": "stream",
     "text": [
      "과자에 맞는 영어 단어는? snack\n"
     ]
    },
    {
     "name": "stdout",
     "output_type": "stream",
     "text": [
      "틀렸습니다!\n"
     ]
    },
    {
     "name": "stdin",
     "output_type": "stream",
     "text": [
      "어머니에 맞는 영어 단어는? mother\n"
     ]
    },
    {
     "name": "stdout",
     "output_type": "stream",
     "text": [
      "맞습니다!\n"
     ]
    },
    {
     "name": "stdin",
     "output_type": "stream",
     "text": [
      "형제에 맞는 영어 단어는? brother\n"
     ]
    },
    {
     "name": "stdout",
     "output_type": "stream",
     "text": [
      "맞습니다!\n"
     ]
    },
    {
     "name": "stdin",
     "output_type": "stream",
     "text": [
      "파이썬에 맞는 영어 단어는? python\n"
     ]
    },
    {
     "name": "stdout",
     "output_type": "stream",
     "text": [
      "맞습니다!\n"
     ]
    }
   ],
   "source": [
    "def matchWORD(word,answer):\n",
    "    if word == answer:\n",
    "        msg = '맞습니다!'\n",
    "    else :\n",
    "        msg = '틀렸습니다!'\n",
    "    return msg\n",
    "\n",
    "eng_dict ={'orange':'오렌지', 'cookie':'과자', 'mother':'어머니','brother':'형제','python':'파이썬'}\n",
    "\n",
    "for key in eng_dict:\n",
    "    string = input(eng_dict[key] + '에 맞는 영어 단어는?')\n",
    "    result = matchWORD(string, key)\n",
    "    print(result)"
   ]
  },
  {
   "cell_type": "code",
   "execution_count": null,
   "metadata": {},
   "outputs": [],
   "source": []
  }
 ],
 "metadata": {
  "kernelspec": {
   "display_name": "Python 3",
   "language": "python",
   "name": "python3"
  },
  "language_info": {
   "codemirror_mode": {
    "name": "ipython",
    "version": 3
   },
   "file_extension": ".py",
   "mimetype": "text/x-python",
   "name": "python",
   "nbconvert_exporter": "python",
   "pygments_lexer": "ipython3",
   "version": "3.6.12"
  }
 },
 "nbformat": 4,
 "nbformat_minor": 4
}
