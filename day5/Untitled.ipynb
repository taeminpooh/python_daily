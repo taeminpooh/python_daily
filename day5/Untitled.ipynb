{
 "cells": [
  {
   "cell_type": "code",
   "execution_count": 17,
   "metadata": {},
   "outputs": [
    {
     "data": {
      "text/plain": [
       "<_io.TextIOWrapper name='sample.txt' mode='w' encoding='utf8'>"
      ]
     },
     "execution_count": 17,
     "metadata": {},
     "output_type": "execute_result"
    }
   ],
   "source": [
    "file = open('sample.txt','w',encoding='utf8')\n",
    "file"
   ]
  },
  {
   "cell_type": "code",
   "execution_count": 6,
   "metadata": {},
   "outputs": [
    {
     "data": {
      "text/plain": [
       "_io.TextIOWrapper"
      ]
     },
     "execution_count": 6,
     "metadata": {},
     "output_type": "execute_result"
    }
   ],
   "source": [
    "type(file)"
   ]
  },
  {
   "cell_type": "code",
   "execution_count": 18,
   "metadata": {},
   "outputs": [
    {
     "data": {
      "text/plain": [
       "14"
      ]
     },
     "execution_count": 18,
     "metadata": {},
     "output_type": "execute_result"
    }
   ],
   "source": [
    "file.write(\"안녕하세요\\n\")\n",
    "file.write(\"반갑습니다. 여러분!!!\\n\")"
   ]
  },
  {
   "cell_type": "code",
   "execution_count": 19,
   "metadata": {},
   "outputs": [],
   "source": [
    "file.close()"
   ]
  },
  {
   "cell_type": "code",
   "execution_count": 9,
   "metadata": {},
   "outputs": [
    {
     "ename": "TypeError",
     "evalue": "'_io.TextIOWrapper' object is not callable",
     "output_type": "error",
     "traceback": [
      "\u001b[1;31m---------------------------------------------------------------------------\u001b[0m",
      "\u001b[1;31mTypeError\u001b[0m                                 Traceback (most recent call last)",
      "\u001b[1;32m<ipython-input-9-6e69165c9250>\u001b[0m in \u001b[0;36m<module>\u001b[1;34m\u001b[0m\n\u001b[1;32m----> 1\u001b[1;33m \u001b[0mfile\u001b[0m\u001b[1;33m(\u001b[0m\u001b[0mfile\u001b[0m\u001b[1;33m)\u001b[0m\u001b[1;33m\u001b[0m\u001b[1;33m\u001b[0m\u001b[0m\n\u001b[0m",
      "\u001b[1;31mTypeError\u001b[0m: '_io.TextIOWrapper' object is not callable"
     ]
    }
   ],
   "source": [
    "file(file)"
   ]
  },
  {
   "cell_type": "markdown",
   "metadata": {},
   "source": [
    "# 파일 읽기!"
   ]
  },
  {
   "cell_type": "code",
   "execution_count": 20,
   "metadata": {},
   "outputs": [],
   "source": [
    "file = open('sample.txt', 'r', encoding='utf8')"
   ]
  },
  {
   "cell_type": "code",
   "execution_count": 21,
   "metadata": {},
   "outputs": [
    {
     "data": {
      "text/plain": [
       "['안녕하세요\\n', '반갑습니다. 여러분!!!\\n']"
      ]
     },
     "execution_count": 21,
     "metadata": {},
     "output_type": "execute_result"
    }
   ],
   "source": [
    "lines = file.readlines()    # readlines 전체 텍스트를 다읽고 리스트로 변환\n",
    "lines"
   ]
  },
  {
   "cell_type": "code",
   "execution_count": 26,
   "metadata": {},
   "outputs": [
    {
     "name": "stdout",
     "output_type": "stream",
     "text": [
      "6 :안녕하세요\n",
      "14 :반갑습니다. 여러분!!!\n"
     ]
    }
   ],
   "source": [
    "for line in lines:\n",
    "    print(f'{len(line)} :{line}', end=\"\")"
   ]
  },
  {
   "cell_type": "code",
   "execution_count": 28,
   "metadata": {},
   "outputs": [],
   "source": [
    "file.close()"
   ]
  },
  {
   "cell_type": "markdown",
   "metadata": {},
   "source": [
    " ## 파일에추가(있는파일사용)"
   ]
  },
  {
   "cell_type": "code",
   "execution_count": 33,
   "metadata": {},
   "outputs": [
    {
     "data": {
      "text/plain": [
       "<_io.TextIOWrapper name='sample.txt' mode='a' encoding='utf8'>"
      ]
     },
     "execution_count": 33,
     "metadata": {},
     "output_type": "execute_result"
    }
   ],
   "source": [
    "file = open('sample.txt', 'a', encoding='utf8')\n",
    "file"
   ]
  },
  {
   "cell_type": "code",
   "execution_count": 34,
   "metadata": {},
   "outputs": [
    {
     "data": {
      "text/plain": [
       "16"
      ]
     },
     "execution_count": 34,
     "metadata": {},
     "output_type": "execute_result"
    }
   ],
   "source": [
    "file.write(\"오.. 파이썬 공부는 재밌어\\n\")"
   ]
  },
  {
   "cell_type": "code",
   "execution_count": 35,
   "metadata": {},
   "outputs": [],
   "source": [
    "file.close()"
   ]
  },
  {
   "cell_type": "code",
   "execution_count": null,
   "metadata": {},
   "outputs": [],
   "source": [
    "file = open('Untitled.ipynb','r',encoding='utf8')\n",
    "lines = file.readlines()\n",
    "for line in lines:\n",
    "    print(f'{line} ' , end=\"\")\n",
    "file.close()"
   ]
  },
  {
   "cell_type": "markdown",
   "metadata": {},
   "source": [
    "### 라인단위로 읽기"
   ]
  },
  {
   "cell_type": "code",
   "execution_count": 53,
   "metadata": {
    "scrolled": true
   },
   "outputs": [
    {
     "name": "stdout",
     "output_type": "stream",
     "text": [
      "{\"cells\": [{\"cell_type\": \"code\",\"execution_count\": 17,\"metadata\": {},\"outputs\": [{\"data\": {\"text/plain\": [\"<_io.TextIOWrapper name='sample.txt' mode='w' encoding='utf8'>\"]},\"execution_count\": 17,\"metadata\": {},\"output_type\": \"execute_result\"}],\"source\": [\"file = open('sample.txt','w',encoding='utf8')\\n\",\"file\"]},{\"cell_type\": \"code\",\"execution_count\": 6,\"metadata\": {},\"outputs\": [{\"data\": {\"text/plain\": [\"_io.TextIOWrapper\"]},\"execution_count\": 6,\"metadata\": {},\"output_type\": \"execute_result\"}],\"source\": [\"type(file)\"]},{\"cell_type\": \"code\",\"execution_count\": 18,\"metadata\": {},\"outputs\": [{\"data\": {\"text/plain\": [\"14\"]},\"execution_count\": 18,\"metadata\": {},\"output_type\": \"execute_result\"}],\"source\": [\"file.write(\\\"안녕하세요\\\\n\\\")\\n\",\"file.write(\\\"반갑습니다. 여러분!!!\\\\n\\\")\"]},{\"cell_type\": \"code\",\"execution_count\": 19,\"metadata\": {},\"outputs\": [],\"source\": [\"file.close()\"]},{\"cell_type\": \"code\",\"execution_count\": 9,\"metadata\": {},\"outputs\": [{\"ename\": \"TypeError\",\"evalue\": \"'_io.TextIOWrapper' object is not callable\",\"output_type\": \"error\",\"traceback\": [\"\\u001b[1;31m---------------------------------------------------------------------------\\u001b[0m\",\"\\u001b[1;31mTypeError\\u001b[0m                                 Traceback (most recent call last)\",\"\\u001b[1;32m<ipython-input-9-6e69165c9250>\\u001b[0m in \\u001b[0;36m<module>\\u001b[1;34m\\u001b[0m\\n\\u001b[1;32m----> 1\\u001b[1;33m \\u001b[0mfile\\u001b[0m\\u001b[1;33m(\\u001b[0m\\u001b[0mfile\\u001b[0m\\u001b[1;33m)\\u001b[0m\\u001b[1;33m\\u001b[0m\\u001b[1;33m\\u001b[0m\\u001b[0m\\n\\u001b[0m\",\"\\u001b[1;31mTypeError\\u001b[0m: '_io.TextIOWrapper' object is not callable\"]}],\"source\": [\"file(file)\"]},{\"cell_type\": \"markdown\",\"metadata\": {},\"source\": [\"# 파일 읽기!\"]},{\"cell_type\": \"code\",\"execution_count\": 20,\"metadata\": {},\"outputs\": [],\"source\": [\"file = open('sample.txt', 'r', encoding='utf8')\"]},{\"cell_type\": \"code\",\"execution_count\": 21,\"metadata\": {},\"outputs\": [{\"data\": {\"text/plain\": [\"['안녕하세요\\\\n', '반갑습니다. 여러분!!!\\\\n']\"]},\"execution_count\": 21,\"metadata\": {},\"output_type\": \"execute_result\"}],\"source\": [\"lines = file.readlines()    # readlines 전체 텍스트를 다읽고 리스트로 변환\\n\",\"lines\"]},{\"cell_type\": \"code\",\"execution_count\": 26,\"metadata\": {},\"outputs\": [{\"name\": \"stdout\",\"output_type\": \"stream\",\"text\": [\"6 :안녕하세요\\n\",\"14 :반갑습니다. 여러분!!!\\n\"]}],\"source\": [\"for line in lines:\\n\",\"    print(f'{len(line)} :{line}', end=\\\"\\\")\"]},{\"cell_type\": \"code\",\"execution_count\": 28,\"metadata\": {},\"outputs\": [],\"source\": [\"file.close()\"]},{\"cell_type\": \"markdown\",\"metadata\": {},\"source\": [\" ## 파일에추가(있는파일사용)\"]},{\"cell_type\": \"code\",\"execution_count\": 33,\"metadata\": {},\"outputs\": [{\"data\": {\"text/plain\": [\"<_io.TextIOWrapper name='sample.txt' mode='a' encoding='utf8'>\"]},\"execution_count\": 33,\"metadata\": {},\"output_type\": \"execute_result\"}],\"source\": [\"file = open('sample.txt', 'a', encoding='utf8')\\n\",\"file\"]},{\"cell_type\": \"code\",\"execution_count\": 34,\"metadata\": {},\"outputs\": [{\"data\": {\"text/plain\": [\"16\"]},\"execution_count\": 34,\"metadata\": {},\"output_type\": \"execute_result\"}],\"source\": [\"file.write(\\\"오.. 파이썬 공부는 재밌어\\\\n\\\")\"]},{\"cell_type\": \"code\",\"execution_count\": 35,\"metadata\": {},\"outputs\": [],\"source\": [\"file.close()\"]},{\"cell_type\": \"code\",\"execution_count\": null,\"metadata\": {},\"outputs\": [],\"source\": [\"file = open('Untitled.ipynb','r',encoding='utf8')\\n\",\"lines = file.readlines()\\n\",\"for line in lines:\\n\",\"    print(f'{line} ' , end=\\\"\\\")\"]},{\"cell_type\": \"markdown\",\"metadata\": {},\"source\": [\"### 라인단위로 읽기\"]},{\"cell_type\": \"code\",\"execution_count\": 49,\"metadata\": {},\"outputs\": [{\"ename\": \"SyntaxError\",\"evalue\": \"invalid syntax (<ipython-input-49-7b1c6fc81469>, line 3)\",\"output_type\": \"error\",\"traceback\": [\"\\u001b[1;36m  File \\u001b[1;32m\\\"<ipython-input-49-7b1c6fc81469>\\\"\\u001b[1;36m, line \\u001b[1;32m3\\u001b[0m\\n\\u001b[1;33m    While True:\\u001b[0m\\n\\u001b[1;37m             ^\\u001b[0m\\n\\u001b[1;31mSyntaxError\\u001b[0m\\u001b[1;31m:\\u001b[0m invalid syntax\\n\"]}],\"source\": [\"file = open('Untitled.ipynb', 'r', encoding='utf8')\\n\",\"\\n\",\"While True:\\n\",\"    line = file.readline()\\n\",\"    if not line:\\n\",\"        break\\n\",\"    print(line, end='')\\n\",\"file.close()\"]},{\"cell_type\": \"code\",\"execution_count\": null,\"metadata\": {},\"outputs\": [],\"source\": []},{\"cell_type\": \"code\",\"execution_count\": null,\"metadata\": {},\"outputs\": [],\"source\": []}],\"metadata\": {\"kernelspec\": {\"display_name\": \"Python 3\",\"language\": \"python\",\"name\": \"python3\"},\"language_info\": {\"codemirror_mode\": {\"name\": \"ipython\",\"version\": 3},\"file_extension\": \".py\",\"mimetype\": \"text/x-python\",\"name\": \"python\",\"nbconvert_exporter\": \"python\",\"pygments_lexer\": \"ipython3\",\"version\": \"3.6.12\"}},\"nbformat\": 4,\"nbformat_minor\": 4}"
     ]
    }
   ],
   "source": [
    "file = open('Untitled.ipynb', 'r', encoding='utf8')\n",
    "\n",
    "while True:\n",
    "    line = file.readline()\n",
    "    if not line:\n",
    "        break\n",
    "    line=line.strip()\n",
    "    print(line, end='')\n",
    "file.close()"
   ]
  },
  {
   "cell_type": "markdown",
   "metadata": {},
   "source": [
    "with .. as. 구문 사용하기"
   ]
  },
  {
   "cell_type": "code",
   "execution_count": 57,
   "metadata": {
    "scrolled": true
   },
   "outputs": [
    {
     "name": "stdout",
     "output_type": "stream",
     "text": [
      "안녕하세요\n",
      " 반갑습니다. 여러분!!!\n",
      " \n",
      " 가나다라마바사아자차\n",
      " 히히히기니기기리니미\n",
      " 르르르르루루루루루루\n",
      " 오.. 파이썬 공부는 재밌어\n",
      " 오.. 파이썬 공부는 재밌어\n",
      " "
     ]
    }
   ],
   "source": [
    "with open('sample.txt','r',encoding='utf8') as file :\n",
    "    lines = file.readlines()\n",
    "    for line in lines:\n",
    "        print(f'{line} ' , end=\"\")\n",
    "        "
   ]
  },
  {
   "cell_type": "code",
   "execution_count": 59,
   "metadata": {},
   "outputs": [],
   "source": [
    "with open('sample.txt', 'a', encoding='utf8') as file:\n",
    "    file.write(\"바로닫힘\\n\")\n",
    "    file.write(\"즐겁다\\n\")"
   ]
  },
  {
   "cell_type": "code",
   "execution_count": 65,
   "metadata": {},
   "outputs": [],
   "source": [
    "file = open('odd_number.txt', 'w', encoding='utf8')\n",
    "\n",
    "for n in range (1,31):\n",
    "    if n%2 == 1:\n",
    "        file.write('%d\\n'%n)\n",
    "file.close()"
   ]
  },
  {
   "cell_type": "code",
   "execution_count": 64,
   "metadata": {},
   "outputs": [],
   "source": [
    "file = open('even_number.txt', 'w', encoding='utf8')\n",
    "\n",
    "for n in range (1,31):\n",
    "    if n%2 == 0:\n",
    "        file.write('%d\\n'%n)\n",
    "file.close()"
   ]
  },
  {
   "cell_type": "code",
   "execution_count": 67,
   "metadata": {},
   "outputs": [],
   "source": [
    "with open('odd_number2.txt', 'w', encoding='utf8') as file:\n",
    "    for n in range (1,31):\n",
    "        if n%2 == 1:\n",
    "            file.write('%d\\n'%n)"
   ]
  },
  {
   "cell_type": "code",
   "execution_count": 68,
   "metadata": {},
   "outputs": [],
   "source": [
    "with open('even_number2.txt', 'w', encoding='utf8') as file:\n",
    "    for n in range (1,31):\n",
    "        if n%2 == 0:\n",
    "            file.write('%d\\n'%n)"
   ]
  },
  {
   "cell_type": "code",
   "execution_count": 70,
   "metadata": {},
   "outputs": [
    {
     "name": "stdout",
     "output_type": "stream",
     "text": [
      "1\n",
      "3\n",
      "5\n",
      "7\n",
      "9\n",
      "11\n",
      "13\n",
      "15\n",
      "17\n",
      "19\n",
      "21\n",
      "23\n",
      "25\n",
      "27\n",
      "29\n"
     ]
    }
   ],
   "source": [
    "with open('odd_number.txt','r',encoding='utf8') as file :\n",
    "    lines = file.readlines()\n",
    "    for line in lines:\n",
    "        print(f'{line}' , end=\"\")"
   ]
  },
  {
   "cell_type": "code",
   "execution_count": 83,
   "metadata": {},
   "outputs": [
    {
     "name": "stdout",
     "output_type": "stream",
     "text": [
      "파일의 단어수 : 14939"
     ]
    }
   ],
   "source": [
    "file = open('Untitled.ipynb','r',encoding='utf8')\n",
    "lines = file.readlines()\n",
    "count=0\n",
    "for line in lines:\n",
    "    count += len(line)\n",
    "print('파일의 단어수 : %d'%count , end=\"\")\n",
    "file.close()"
   ]
  },
  {
   "cell_type": "code",
   "execution_count": 82,
   "metadata": {},
   "outputs": [
    {
     "name": "stdout",
     "output_type": "stream",
     "text": [
      "파일의 단어수 14939개\n"
     ]
    }
   ],
   "source": [
    "result=[]\n",
    "\n",
    "with open('Untitled.ipynb',mode='r',encoding='utf-8') as f:\n",
    "          for line in f.readlines():\n",
    "              word_list = list(line)\n",
    "              for w in word_list:\n",
    "                  result.append(w)\n",
    "          \n",
    "print(\"파일의 단어수 {}개\".format(len(result)))"
   ]
  },
  {
   "cell_type": "code",
   "execution_count": 81,
   "metadata": {},
   "outputs": [
    {
     "name": "stdout",
     "output_type": "stream",
     "text": [
      "파일의 단어수 14939개\n"
     ]
    }
   ],
   "source": [
    "result=[]\n",
    "\n",
    "with open('Untitled.ipynb',mode='r',encoding='utf-8') as f:\n",
    "          for line in f.readlines():\n",
    "              word_list = list(line)\n",
    "              for _ in range(len(word_list)):\n",
    "                  result.append(word_list.pop())\n",
    "print(\"파일의 단어수 {}개\".format(len(result)))   "
   ]
  },
  {
   "cell_type": "markdown",
   "metadata": {},
   "source": [
    "## 인코딩문제"
   ]
  },
  {
   "cell_type": "code",
   "execution_count": 89,
   "metadata": {},
   "outputs": [],
   "source": [
    "with open('text_cp949.txt', 'w', encoding='cp949') as file:\n",
    "    for i in range(1, 10):\n",
    "        file.write(f'{i} 번째 라인입니다\\n')"
   ]
  },
  {
   "cell_type": "code",
   "execution_count": 87,
   "metadata": {},
   "outputs": [],
   "source": [
    "with open('text_utf8.txt', 'w', encoding='utf8') as file:\n",
    "    for i in range(1, 10):\n",
    "        file.write(f'{i} 번째 라인입니다\\n')"
   ]
  },
  {
   "cell_type": "code",
   "execution_count": 90,
   "metadata": {},
   "outputs": [
    {
     "name": "stdout",
     "output_type": "stream",
     "text": [
      "['1 번째 라인입니다\\n', '2 번째 라인입니다\\n', '3 번째 라인입니다\\n', '4 번째 라인입니다\\n', '5 번째 라인입니다\\n', '6 번째 라인입니다\\n', '7 번째 라인입니다\\n', '8 번째 라인입니다\\n', '9 번째 라인입니다\\n']\n"
     ]
    }
   ],
   "source": [
    "with open('text_cp949.txt', 'r') as file: #default encdoing : utf8(linux) cp949(windows)\n",
    "    lines=file.readlines()\n",
    "print(lines)"
   ]
  },
  {
   "cell_type": "code",
   "execution_count": 92,
   "metadata": {},
   "outputs": [
    {
     "name": "stdout",
     "output_type": "stream",
     "text": [
      "['1 번째 라인입니다\\n', '2 번째 라인입니다\\n', '3 번째 라인입니다\\n', '4 번째 라인입니다\\n', '5 번째 라인입니다\\n', '6 번째 라인입니다\\n', '7 번째 라인입니다\\n', '8 번째 라인입니다\\n', '9 번째 라인입니다\\n']\n"
     ]
    }
   ],
   "source": [
    "with open('text_utf8.txt', 'r' , encoding='utf8') as file: #default encdoing : utf8(linux) cp949(windows)\n",
    "    lines=file.readlines()\n",
    "print(lines)"
   ]
  },
  {
   "cell_type": "markdown",
   "metadata": {},
   "source": [
    "## binary mode"
   ]
  },
  {
   "cell_type": "code",
   "execution_count": null,
   "metadata": {},
   "outputs": [],
   "source": []
  },
  {
   "cell_type": "code",
   "execution_count": 99,
   "metadata": {},
   "outputs": [],
   "source": [
    "with open('test.bin', 'wb')as file :\n",
    "    for i in range(0,256): # 1byte\n",
    "        data = i.to_bytes(1, 'little')\n",
    "        file.write(data)"
   ]
  },
  {
   "cell_type": "code",
   "execution_count": 100,
   "metadata": {},
   "outputs": [
    {
     "name": "stdout",
     "output_type": "stream",
     "text": [
      "b'\\x00\\x01\\x02\\x03\\x04\\x05\\x06\\x07\\x08\\t\\n\\x0b\\x0c\\r\\x0e\\x0f\\x10\\x11\\x12\\x13\\x14\\x15\\x16\\x17\\x18\\x19\\x1a\\x1b\\x1c\\x1d\\x1e\\x1f !\"#$%&\\'()*+,-./0123456789:;<=>?@ABCDEFGHIJKLMNOPQRSTUVWXYZ[\\\\]^_`abcdefghijklmnopqrstuvwxyz{|}~\\x7f\\x80\\x81\\x82\\x83\\x84\\x85\\x86\\x87\\x88\\x89\\x8a\\x8b\\x8c\\x8d\\x8e\\x8f\\x90\\x91\\x92\\x93\\x94\\x95\\x96\\x97\\x98\\x99\\x9a\\x9b\\x9c\\x9d\\x9e\\x9f\\xa0\\xa1\\xa2\\xa3\\xa4\\xa5\\xa6\\xa7\\xa8\\xa9\\xaa\\xab\\xac\\xad\\xae\\xaf\\xb0\\xb1\\xb2\\xb3\\xb4\\xb5\\xb6\\xb7\\xb8\\xb9\\xba\\xbb\\xbc\\xbd\\xbe\\xbf\\xc0\\xc1\\xc2\\xc3\\xc4\\xc5\\xc6\\xc7\\xc8\\xc9\\xca\\xcb\\xcc\\xcd\\xce\\xcf\\xd0\\xd1\\xd2\\xd3\\xd4\\xd5\\xd6\\xd7\\xd8\\xd9\\xda\\xdb\\xdc\\xdd\\xde\\xdf\\xe0\\xe1\\xe2\\xe3\\xe4\\xe5\\xe6\\xe7\\xe8\\xe9\\xea\\xeb\\xec\\xed\\xee\\xef\\xf0\\xf1\\xf2\\xf3\\xf4\\xf5\\xf6\\xf7\\xf8\\xf9\\xfa\\xfb\\xfc\\xfd\\xfe\\xff'\n"
     ]
    }
   ],
   "source": [
    "with open('test.bin', 'rb') as file:\n",
    "    print(file.read())   # print(file.read()) byte literal로 전체로보임"
   ]
  },
  {
   "cell_type": "code",
   "execution_count": 102,
   "metadata": {},
   "outputs": [
    {
     "name": "stdout",
     "output_type": "stream",
     "text": [
      "11706\n"
     ]
    }
   ],
   "source": [
    "with open('logo.png', 'rb') as file:\n",
    "    data = file.read()\n",
    "print(len(data))"
   ]
  },
  {
   "cell_type": "code",
   "execution_count": 103,
   "metadata": {},
   "outputs": [],
   "source": [
    "with open('logo_cpy.png','wb') as file:\n",
    "    file.write(data)"
   ]
  },
  {
   "cell_type": "code",
   "execution_count": 104,
   "metadata": {},
   "outputs": [
    {
     "name": "stdout",
     "output_type": "stream",
     "text": [
      "11706\n"
     ]
    }
   ],
   "source": [
    "with open('logo.png', 'r', encoding='iso8859') as file:\n",
    "    data =file.read()\n",
    "print(len(data))"
   ]
  },
  {
   "cell_type": "code",
   "execution_count": 106,
   "metadata": {},
   "outputs": [],
   "source": [
    "with open('logo_cpy_acii.png', 'w', encoding='utf8') as file:  # binary가 아니면 실행되지않을수있음\n",
    "    file.write(data)"
   ]
  },
  {
   "cell_type": "markdown",
   "metadata": {},
   "source": [
    "# 실습"
   ]
  },
  {
   "cell_type": "code",
   "execution_count": 157,
   "metadata": {},
   "outputs": [
    {
     "name": "stdin",
     "output_type": "stream",
     "text": [
      " i am a hungry\n",
      " hello\n",
      " i am happy\n",
      " i love you\n",
      " five four three two one\n"
     ]
    },
    {
     "name": "stdout",
     "output_type": "stream",
     "text": [
      "------------------------------\n",
      "각 줄의 문장을 거꾸로\n",
      "4\n",
      "1\n",
      "3\n",
      "3\n",
      "5\n",
      "------------------------------\n",
      "각 줄의 단어의 갯수\n",
      "yrgnuh a ma i\n",
      "olleh\n",
      "yppah ma i\n",
      "uoy evol i\n",
      "eno owt eerht ruof evif\n",
      "------------------------------\n",
      "전체 문장의 문자 갯수\n",
      "61\n",
      "------------------------------\n"
     ]
    }
   ],
   "source": [
    "\n",
    "def msg_reverse(message):\n",
    "    for i in range (len(message)):     \n",
    "        print(''.join(reversed(message[i])))\n",
    "def count_word(string):\n",
    "    for i in range (len(string)):\n",
    "        a=[]\n",
    "        a=string[i].split()\n",
    "        print(len(a))\n",
    "def count_letter(letter):\n",
    "    count_l=0\n",
    "    for i in range (len(letter)):\n",
    "        b=[]\n",
    "        b=letter[i].split()\n",
    "    for j in range (len(letter)):\n",
    "        count_l = count_l+len(letter[j])\n",
    "    print(count_l)    \n",
    "        \n",
    "text = []\n",
    "for i in range(5):\n",
    "    text.append(input())\n",
    "    \n",
    "print('-'*30)\n",
    "print('각 줄의 문장을 거꾸로')\n",
    "msg_reverse(text)\n",
    "print('-'*30)\n",
    "print('각 줄의 단어의 갯수')\n",
    "count_word(text)\n",
    "print('-'*30)\n",
    "print('전체 문장의 문자 갯수')\n",
    "count_letter(text)\n",
    "print('-'*30)"
   ]
  },
  {
   "cell_type": "code",
   "execution_count": 134,
   "metadata": {},
   "outputs": [
    {
     "data": {
      "text/plain": [
       "3"
      ]
     },
     "execution_count": 134,
     "metadata": {},
     "output_type": "execute_result"
    }
   ],
   "source": [
    "aa = 'asdnfasdf asdf asdf'\n",
    "aa.split()\n",
    "b=[]\n",
    "b= aa.split()\n",
    "len(b)"
   ]
  },
  {
   "cell_type": "code",
   "execution_count": 140,
   "metadata": {},
   "outputs": [
    {
     "name": "stdin",
     "output_type": "stream",
     "text": [
      " dfsasadf\n",
      " adfsdsf\n",
      " asdfasdf\n",
      " afdsadfs\n",
      " afdsadfs\n"
     ]
    },
    {
     "data": {
      "text/plain": [
       "'adfsdsf'"
      ]
     },
     "execution_count": 140,
     "metadata": {},
     "output_type": "execute_result"
    }
   ],
   "source": [
    "text = []\n",
    "for i in range(5):\n",
    "    text.append(input())\n",
    "\n",
    "text[1]"
   ]
  },
  {
   "cell_type": "code",
   "execution_count": null,
   "metadata": {},
   "outputs": [],
   "source": []
  }
 ],
 "metadata": {
  "kernelspec": {
   "display_name": "Python 3",
   "language": "python",
   "name": "python3"
  },
  "language_info": {
   "codemirror_mode": {
    "name": "ipython",
    "version": 3
   },
   "file_extension": ".py",
   "mimetype": "text/x-python",
   "name": "python",
   "nbconvert_exporter": "python",
   "pygments_lexer": "ipython3",
   "version": "3.6.12"
  }
 },
 "nbformat": 4,
 "nbformat_minor": 4
}
