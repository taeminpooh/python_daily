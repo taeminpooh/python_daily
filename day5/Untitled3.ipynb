{
 "cells": [
  {
   "cell_type": "markdown",
   "metadata": {},
   "source": [
    "# math와 날짜 모듈"
   ]
  },
  {
   "cell_type": "code",
   "execution_count": 4,
   "metadata": {},
   "outputs": [
    {
     "name": "stdout",
     "output_type": "stream",
     "text": [
      "floor(7.7) : 7\n",
      "ceil(10.1) : 11\n",
      "round(8.6) : 9\n",
      "factorial(5) : 120\n"
     ]
    }
   ],
   "source": [
    "import math\n",
    "floor=math.floor(7.7)\n",
    "ceil=math.ceil(10.1)\n",
    "round=round(8.6)\n",
    "factorial=math.factorial(5)\n",
    "\n",
    "print(f'floor(7.7) : {floor}')\n",
    "print(f'ceil(10.1) : {ceil}')\n",
    "print(f'round(8.6) : {round}')\n",
    "print(f'factorial(5) : {factorial}')"
   ]
  },
  {
   "cell_type": "code",
   "execution_count": 14,
   "metadata": {},
   "outputs": [
    {
     "name": "stdout",
     "output_type": "stream",
     "text": [
      "sin(pi/2) : 1.0\n",
      "cos(pi) : -1.0\n",
      "tan(pi*2) : -2.4492935982947064e-16\n",
      "2의 4승 : 16.0\n",
      "49의 제곱근 : 7.0\n",
      "log10(100) : 2.0\n"
     ]
    }
   ],
   "source": [
    "import math as m\n",
    "sin = m.sin(m.pi/2)\n",
    "cos = m.cos(m.pi)\n",
    "tan = m.tan(m.pi*2)\n",
    "\n",
    "pow = m.pow(2,4)\n",
    "sqrt = m.sqrt(49)\n",
    "log = m.log10(100)\n",
    "\n",
    "print(f'sin(pi/2) : {sin}')\n",
    "print(f'cos(pi) : {cos}')\n",
    "print(f'tan(pi*2) : {tan}')\n",
    "\n",
    "print(f'2의 4승 : {pow}')\n",
    "print(f'49의 제곱근 : {sqrt}')\n",
    "print(f'log10(100) : {log}')"
   ]
  },
  {
   "cell_type": "code",
   "execution_count": 26,
   "metadata": {},
   "outputs": [
    {
     "name": "stdout",
     "output_type": "stream",
     "text": [
      "년 : 2020\n",
      "월 : 12\n",
      "일 : 04\n",
      "시 : 16\n",
      "분 : 43\n",
      "초 : 13\n",
      "2020/12/04 16:43:13\n",
      "20-12-04 PM 04:43\n",
      "2020/12/04 16:43:13\n",
      "20-12-04 PM 04:43\n"
     ]
    }
   ],
   "source": [
    "from datetime import datetime\n",
    "today = datetime.now()\n",
    "\n",
    "print(f'년 : {today:%Y}')\n",
    "print(f'월 : {today:%m}')\n",
    "print(f'일 : {today:%d}')\n",
    "print(f'시 : {today:%H}')\n",
    "print(f'분 : {today:%M}')\n",
    "print(f'초 : {today:%S}')\n",
    "\n",
    "print(today.strftime('%Y/%m/%d %H:%M:%S'))\n",
    "print(today.strftime('%y-%m-%d %p %I:%M'))\n",
    "print(f'{today:%Y/%m/%d %H:%M:%S}')\n",
    "print(f'{today:%y-%m-%d %p %I:%M}')"
   ]
  },
  {
   "cell_type": "code",
   "execution_count": null,
   "metadata": {},
   "outputs": [],
   "source": []
  }
 ],
 "metadata": {
  "kernelspec": {
   "display_name": "Python 3",
   "language": "python",
   "name": "python3"
  },
  "language_info": {
   "codemirror_mode": {
    "name": "ipython",
    "version": 3
   },
   "file_extension": ".py",
   "mimetype": "text/x-python",
   "name": "python",
   "nbconvert_exporter": "python",
   "pygments_lexer": "ipython3",
   "version": "3.6.12"
  }
 },
 "nbformat": 4,
 "nbformat_minor": 4
}
