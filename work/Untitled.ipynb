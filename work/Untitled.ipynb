{
 "cells": [
  {
   "cell_type": "code",
   "execution_count": null,
   "metadata": {},
   "outputs": [],
   "source": [
    "# 과제 1"
   ]
  },
  {
   "cell_type": "code",
   "execution_count": 38,
   "metadata": {},
   "outputs": [
    {
     "name": "stdout",
     "output_type": "stream",
     "text": [
      "------------------------------\n",
      "a = 6\n",
      "b = 1\n",
      "c = 2\n",
      "d = 3\n",
      "e = 9\n",
      "f = 1\n",
      "g = 3\n",
      "h = 3\n",
      "i = 6\n",
      "j = 0\n",
      "k = 0\n",
      "l = 1\n",
      "m = 2\n",
      "n = 7\n",
      "o = 7\n",
      "p = 1\n",
      "q = 0\n",
      "r = 14\n",
      "s = 5\n",
      "t = 9\n",
      "u = 1\n",
      "v = 0\n",
      "w = 2\n",
      "x = 0\n",
      "y = 1\n",
      "z = 0\n"
     ]
    }
   ],
   "source": [
    "s ='n with -W error to treat them as errors. Warnings Filter can be used to ignore warnings from third-party code.'\n",
    "k=list(s)\n",
    "new = []\n",
    "count_a = 0; count_b = 0; count_c = 0; count_d = 0; count_e = 0; count_f = 0; count_g = 0; count_h = 0\n",
    "count_i = 0; count_j = 0; count_k = 0; count_l = 0; count_m = 0; count_n = 0; count_o = 0; count_p = 0\n",
    "count_q = 0; count_r = 0; count_s = 0; count_t = 0; count_u = 0; count_v = 0; count_w = 0; count_x = 0\n",
    "count_y = 0; count_z = 0;\n",
    "for i in k :\n",
    "    if i.islower() == True :\n",
    "        new.append(i)\n",
    "for j in new :\n",
    "    if j == 'a' :\n",
    "        count_a += 1\n",
    "    elif j == 'b' :\n",
    "        count_b += 1\n",
    "    elif j == 'c' :\n",
    "        count_c += 1\n",
    "    elif j == 'd' :\n",
    "        count_d += 1\n",
    "    elif j == 'e' :\n",
    "        count_e += 1\n",
    "    elif j == 'f' :\n",
    "        count_f += 1\n",
    "    elif j == 'g' :\n",
    "        count_g += 1\n",
    "    elif j == 'h' :\n",
    "        count_h += 1\n",
    "    elif j == 'i' :\n",
    "        count_i += 1\n",
    "    elif j == 'j' :\n",
    "        count_j += 1\n",
    "    elif j == 'k' :\n",
    "        count_k += 1\n",
    "    elif j == 'l' :\n",
    "        count_l += 1\n",
    "    elif j == 'm' :\n",
    "        count_m += 1\n",
    "    elif j == 'n' :\n",
    "        count_n += 1\n",
    "    elif j == 'o' :\n",
    "        count_o += 1\n",
    "    elif j == 'p' :\n",
    "        count_p += 1\n",
    "    elif j == 'q' :\n",
    "        count_q += 1\n",
    "    elif j == 'r' :\n",
    "        count_r += 1\n",
    "    elif j == 's' :\n",
    "        count_s += 1\n",
    "    elif j == 't' :\n",
    "        count_t += 1\n",
    "    elif j == 'u' :\n",
    "        count_u += 1\n",
    "    elif j == 'v' :\n",
    "        count_v += 1\n",
    "    elif j == 'w' :\n",
    "        count_w += 1\n",
    "    elif j == 'x' :\n",
    "        count_x += 1\n",
    "    elif j == 'y' :\n",
    "        count_y += 1\n",
    "    elif j == 'z' :\n",
    "        count_z += 1\n",
    "\n",
    "print('-'*30)\n",
    "print('a = %d' %count_a); print('b = %d' %count_b); print('c = %d' %count_c)\n",
    "print('d = %d' %count_d); print('e = %d' %count_e); print('f = %d' %count_f)\n",
    "print('g = %d' %count_g); print('h = %d' %count_h); print('i = %d' %count_i)\n",
    "print('j = %d' %count_j); print('k = %d' %count_k); print('l = %d' %count_l)\n",
    "print('m = %d' %count_m); print('n = %d' %count_n); print('o = %d' %count_o)\n",
    "print('p = %d' %count_p); print('q = %d' %count_q); print('r = %d' %count_r)\n",
    "print('s = %d' %count_s); print('t = %d' %count_t); print('u = %d' %count_u)\n",
    "print('v = %d' %count_v); print('w = %d' %count_w); print('x = %d' %count_x)\n",
    "print('y = %d' %count_y); print('z = %d' %count_z)\n",
    "        \n",
    "        \n"
   ]
  },
  {
   "cell_type": "code",
   "execution_count": null,
   "metadata": {},
   "outputs": [],
   "source": [
    "# 과제 2"
   ]
  },
  {
   "cell_type": "code",
   "execution_count": 41,
   "metadata": {},
   "outputs": [
    {
     "name": "stdout",
     "output_type": "stream",
     "text": [
      "10\n"
     ]
    }
   ],
   "source": [
    " # 1번 문제\n",
    "data = [-12, 3, -9, 5, 8, -2, 0, -3, 3, 10]\n",
    "max = 0\n",
    "for x in data :\n",
    "    if max < x :\n",
    "        max = x\n",
    "print('%d'%x)    "
   ]
  },
  {
   "cell_type": "code",
   "execution_count": 46,
   "metadata": {},
   "outputs": [
    {
     "name": "stdout",
     "output_type": "stream",
     "text": [
      "합계는 13 평균은 2.60 입니다\n"
     ]
    }
   ],
   "source": [
    " # 2번 문제\n",
    "data = [-12, 3, -9, 5, 8, -2, 0, -3, 3, 10]\n",
    "l = 0\n",
    "sum = 0\n",
    "count_even = 0\n",
    "while l < len(data) :\n",
    "    if l%2 != 0:\n",
    "        sum += data[l]\n",
    "        count_even = count_even + 1\n",
    "    l += 1\n",
    "avg = sum/count_even\n",
    "print('합계는 %d 평균은 %.2f 입니다' %(sum,avg))"
   ]
  },
  {
   "cell_type": "code",
   "execution_count": 50,
   "metadata": {},
   "outputs": [
    {
     "data": {
      "text/plain": [
       "[10, 8, 5, 3, 3, 0, -2, -3, -9, -12]"
      ]
     },
     "execution_count": 50,
     "metadata": {},
     "output_type": "execute_result"
    }
   ],
   "source": [
    " # 3번 문제\n",
    "data = [-12, 3, -9, 5, 8, -2, 0, -3, 3, 10]\n",
    "data.sort(reverse=True)\n",
    "data"
   ]
  },
  {
   "cell_type": "code",
   "execution_count": null,
   "metadata": {},
   "outputs": [],
   "source": [
    " # 4번 문제\n",
    "data = [-12, 3, -9, 5, 8, -2, 0, -3, 3, 10]\n",
    "data.insert()"
   ]
  }
 ],
 "metadata": {
  "kernelspec": {
   "display_name": "Python 3",
   "language": "python",
   "name": "python3"
  },
  "language_info": {
   "codemirror_mode": {
    "name": "ipython",
    "version": 3
   },
   "file_extension": ".py",
   "mimetype": "text/x-python",
   "name": "python",
   "nbconvert_exporter": "python",
   "pygments_lexer": "ipython3",
   "version": "3.6.12"
  }
 },
 "nbformat": 4,
 "nbformat_minor": 4
}
